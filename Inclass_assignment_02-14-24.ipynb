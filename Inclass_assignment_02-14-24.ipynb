{
 "cells": [
  {
   "cell_type": "markdown",
   "id": "4908a335",
   "metadata": {},
   "source": [
    "# In-class exercise Feb 14: Statistical analysis with iris data"
   ]
  },
  {
   "cell_type": "code",
   "execution_count": 2,
   "id": "6c2dfdf7",
   "metadata": {},
   "outputs": [],
   "source": [
    "import pandas as pd\n",
    "import seaborn as sns\n",
    "iris = sns.load_dataset('iris')\n"
   ]
  },
  {
   "cell_type": "markdown",
   "id": "4fa3d714",
   "metadata": {},
   "source": [
    "## 1.\tBasic Exploration:\n",
    "* Display the first 5 rows of the dataset."
   ]
  },
  {
   "cell_type": "code",
   "execution_count": 3,
   "id": "54e0b38a",
   "metadata": {},
   "outputs": [
    {
     "data": {
      "text/html": [
       "<div>\n",
       "<style scoped>\n",
       "    .dataframe tbody tr th:only-of-type {\n",
       "        vertical-align: middle;\n",
       "    }\n",
       "\n",
       "    .dataframe tbody tr th {\n",
       "        vertical-align: top;\n",
       "    }\n",
       "\n",
       "    .dataframe thead th {\n",
       "        text-align: right;\n",
       "    }\n",
       "</style>\n",
       "<table border=\"1\" class=\"dataframe\">\n",
       "  <thead>\n",
       "    <tr style=\"text-align: right;\">\n",
       "      <th></th>\n",
       "      <th>sepal_length</th>\n",
       "      <th>sepal_width</th>\n",
       "      <th>petal_length</th>\n",
       "      <th>petal_width</th>\n",
       "      <th>species</th>\n",
       "    </tr>\n",
       "  </thead>\n",
       "  <tbody>\n",
       "    <tr>\n",
       "      <th>0</th>\n",
       "      <td>5.1</td>\n",
       "      <td>3.5</td>\n",
       "      <td>1.4</td>\n",
       "      <td>0.2</td>\n",
       "      <td>setosa</td>\n",
       "    </tr>\n",
       "    <tr>\n",
       "      <th>1</th>\n",
       "      <td>4.9</td>\n",
       "      <td>3.0</td>\n",
       "      <td>1.4</td>\n",
       "      <td>0.2</td>\n",
       "      <td>setosa</td>\n",
       "    </tr>\n",
       "    <tr>\n",
       "      <th>2</th>\n",
       "      <td>4.7</td>\n",
       "      <td>3.2</td>\n",
       "      <td>1.3</td>\n",
       "      <td>0.2</td>\n",
       "      <td>setosa</td>\n",
       "    </tr>\n",
       "    <tr>\n",
       "      <th>3</th>\n",
       "      <td>4.6</td>\n",
       "      <td>3.1</td>\n",
       "      <td>1.5</td>\n",
       "      <td>0.2</td>\n",
       "      <td>setosa</td>\n",
       "    </tr>\n",
       "    <tr>\n",
       "      <th>4</th>\n",
       "      <td>5.0</td>\n",
       "      <td>3.6</td>\n",
       "      <td>1.4</td>\n",
       "      <td>0.2</td>\n",
       "      <td>setosa</td>\n",
       "    </tr>\n",
       "  </tbody>\n",
       "</table>\n",
       "</div>"
      ],
      "text/plain": [
       "   sepal_length  sepal_width  petal_length  petal_width species\n",
       "0           5.1          3.5           1.4          0.2  setosa\n",
       "1           4.9          3.0           1.4          0.2  setosa\n",
       "2           4.7          3.2           1.3          0.2  setosa\n",
       "3           4.6          3.1           1.5          0.2  setosa\n",
       "4           5.0          3.6           1.4          0.2  setosa"
      ]
     },
     "execution_count": 3,
     "metadata": {},
     "output_type": "execute_result"
    }
   ],
   "source": [
    "iris.head()"
   ]
  },
  {
   "cell_type": "markdown",
   "id": "5f698e06",
   "metadata": {},
   "source": [
    "* Display the summary statistics of the dataset using describe()."
   ]
  },
  {
   "cell_type": "code",
   "execution_count": 4,
   "id": "4ae06647",
   "metadata": {},
   "outputs": [
    {
     "data": {
      "text/html": [
       "<div>\n",
       "<style scoped>\n",
       "    .dataframe tbody tr th:only-of-type {\n",
       "        vertical-align: middle;\n",
       "    }\n",
       "\n",
       "    .dataframe tbody tr th {\n",
       "        vertical-align: top;\n",
       "    }\n",
       "\n",
       "    .dataframe thead th {\n",
       "        text-align: right;\n",
       "    }\n",
       "</style>\n",
       "<table border=\"1\" class=\"dataframe\">\n",
       "  <thead>\n",
       "    <tr style=\"text-align: right;\">\n",
       "      <th></th>\n",
       "      <th>sepal_length</th>\n",
       "      <th>sepal_width</th>\n",
       "      <th>petal_length</th>\n",
       "      <th>petal_width</th>\n",
       "    </tr>\n",
       "  </thead>\n",
       "  <tbody>\n",
       "    <tr>\n",
       "      <th>count</th>\n",
       "      <td>150.000000</td>\n",
       "      <td>150.000000</td>\n",
       "      <td>150.000000</td>\n",
       "      <td>150.000000</td>\n",
       "    </tr>\n",
       "    <tr>\n",
       "      <th>mean</th>\n",
       "      <td>5.843333</td>\n",
       "      <td>3.057333</td>\n",
       "      <td>3.758000</td>\n",
       "      <td>1.199333</td>\n",
       "    </tr>\n",
       "    <tr>\n",
       "      <th>std</th>\n",
       "      <td>0.828066</td>\n",
       "      <td>0.435866</td>\n",
       "      <td>1.765298</td>\n",
       "      <td>0.762238</td>\n",
       "    </tr>\n",
       "    <tr>\n",
       "      <th>min</th>\n",
       "      <td>4.300000</td>\n",
       "      <td>2.000000</td>\n",
       "      <td>1.000000</td>\n",
       "      <td>0.100000</td>\n",
       "    </tr>\n",
       "    <tr>\n",
       "      <th>25%</th>\n",
       "      <td>5.100000</td>\n",
       "      <td>2.800000</td>\n",
       "      <td>1.600000</td>\n",
       "      <td>0.300000</td>\n",
       "    </tr>\n",
       "    <tr>\n",
       "      <th>50%</th>\n",
       "      <td>5.800000</td>\n",
       "      <td>3.000000</td>\n",
       "      <td>4.350000</td>\n",
       "      <td>1.300000</td>\n",
       "    </tr>\n",
       "    <tr>\n",
       "      <th>75%</th>\n",
       "      <td>6.400000</td>\n",
       "      <td>3.300000</td>\n",
       "      <td>5.100000</td>\n",
       "      <td>1.800000</td>\n",
       "    </tr>\n",
       "    <tr>\n",
       "      <th>max</th>\n",
       "      <td>7.900000</td>\n",
       "      <td>4.400000</td>\n",
       "      <td>6.900000</td>\n",
       "      <td>2.500000</td>\n",
       "    </tr>\n",
       "  </tbody>\n",
       "</table>\n",
       "</div>"
      ],
      "text/plain": [
       "       sepal_length  sepal_width  petal_length  petal_width\n",
       "count    150.000000   150.000000    150.000000   150.000000\n",
       "mean       5.843333     3.057333      3.758000     1.199333\n",
       "std        0.828066     0.435866      1.765298     0.762238\n",
       "min        4.300000     2.000000      1.000000     0.100000\n",
       "25%        5.100000     2.800000      1.600000     0.300000\n",
       "50%        5.800000     3.000000      4.350000     1.300000\n",
       "75%        6.400000     3.300000      5.100000     1.800000\n",
       "max        7.900000     4.400000      6.900000     2.500000"
      ]
     },
     "execution_count": 4,
     "metadata": {},
     "output_type": "execute_result"
    }
   ],
   "source": [
    "iris.describe()"
   ]
  },
  {
   "cell_type": "markdown",
   "id": "30410bd7",
   "metadata": {},
   "source": [
    "## 2.\tMean, Median, and Mode:\n",
    "* Calculate the mean of the 'sepal_length'.\n"
   ]
  },
  {
   "cell_type": "code",
   "execution_count": 5,
   "id": "8f8550d8",
   "metadata": {},
   "outputs": [
    {
     "name": "stdout",
     "output_type": "stream",
     "text": [
      "5.843333333333334\n"
     ]
    }
   ],
   "source": [
    "print(iris['sepal_length'].mean())"
   ]
  },
  {
   "cell_type": "markdown",
   "id": "b4495d1a",
   "metadata": {},
   "source": [
    "* Find the median of 'sepal_width'."
   ]
  },
  {
   "cell_type": "code",
   "execution_count": 6,
   "id": "7ac5e019",
   "metadata": {},
   "outputs": [
    {
     "name": "stdout",
     "output_type": "stream",
     "text": [
      "3.0\n"
     ]
    }
   ],
   "source": [
    "print(iris['sepal_width'].median())"
   ]
  },
  {
   "cell_type": "markdown",
   "id": "a0388fe1",
   "metadata": {},
   "source": [
    "* Determine the mode of 'species'."
   ]
  },
  {
   "cell_type": "code",
   "execution_count": 7,
   "id": "65987a1c",
   "metadata": {},
   "outputs": [
    {
     "name": "stdout",
     "output_type": "stream",
     "text": [
      "0        setosa\n",
      "1    versicolor\n",
      "2     virginica\n",
      "Name: species, dtype: object\n"
     ]
    }
   ],
   "source": [
    "print(iris['species'].mode())"
   ]
  },
  {
   "cell_type": "markdown",
   "id": "c57dc112",
   "metadata": {},
   "source": [
    "## 3.\tVariance and Standard Deviation:\n",
    "* Compute the variance of 'petal_length'.\n"
   ]
  },
  {
   "cell_type": "code",
   "execution_count": 8,
   "id": "0baa81da",
   "metadata": {},
   "outputs": [
    {
     "name": "stdout",
     "output_type": "stream",
     "text": [
      "3.1162778523489942\n"
     ]
    }
   ],
   "source": [
    "print(iris['petal_length'].var())"
   ]
  },
  {
   "cell_type": "markdown",
   "id": "4ee967e8",
   "metadata": {},
   "source": [
    "* Calculate the standard deviation of 'petal_width'."
   ]
  },
  {
   "cell_type": "code",
   "execution_count": 9,
   "id": "750bc58e",
   "metadata": {},
   "outputs": [
    {
     "name": "stdout",
     "output_type": "stream",
     "text": [
      "0.7622376689603465\n"
     ]
    }
   ],
   "source": [
    "print(iris['petal_width'].std())"
   ]
  },
  {
   "cell_type": "markdown",
   "id": "83b9fd6a",
   "metadata": {},
   "source": [
    "## 4.\tSkewness and Kurtosis:\n",
    "* Find the skewness of the entire dataset.\n"
   ]
  },
  {
   "cell_type": "code",
   "execution_count": 10,
   "id": "f62c06b1",
   "metadata": {},
   "outputs": [
    {
     "name": "stdout",
     "output_type": "stream",
     "text": [
      "sepal_length    0.314911\n",
      "sepal_width     0.318966\n",
      "petal_length   -0.274884\n",
      "petal_width    -0.102967\n",
      "dtype: float64\n"
     ]
    }
   ],
   "source": [
    "col= iris.select_dtypes(include=['float64'])\n",
    "print(col.skew())"
   ]
  },
  {
   "cell_type": "markdown",
   "id": "c995f767",
   "metadata": {},
   "source": [
    "* Determine the kurtosis of the 'sepal_length'."
   ]
  },
  {
   "cell_type": "code",
   "execution_count": 11,
   "id": "4acb07a4",
   "metadata": {},
   "outputs": [
    {
     "name": "stdout",
     "output_type": "stream",
     "text": [
      "-0.5520640413156395\n"
     ]
    }
   ],
   "source": [
    "print(iris['sepal_length'].kurtosis())"
   ]
  },
  {
   "cell_type": "markdown",
   "id": "9ecd851f",
   "metadata": {},
   "source": [
    "## 5.\tQuantiles:\n",
    "* Calculate the 25th, 50th, and 75th percentiles of 'petal_length'.\n"
   ]
  },
  {
   "cell_type": "code",
   "execution_count": 12,
   "id": "603359e7",
   "metadata": {},
   "outputs": [
    {
     "data": {
      "text/plain": [
       "0.25    1.60\n",
       "0.50    4.35\n",
       "0.75    5.10\n",
       "Name: petal_length, dtype: float64"
      ]
     },
     "execution_count": 12,
     "metadata": {},
     "output_type": "execute_result"
    }
   ],
   "source": [
    "petal_length_percentiles = iris['petal_length'].quantile([0.25, 0.5, 0.75])\n",
    "petal_length_percentiles\n"
   ]
  },
  {
   "cell_type": "code",
   "execution_count": null,
   "id": "b185c59f",
   "metadata": {},
   "outputs": [],
   "source": []
  }
 ],
 "metadata": {
  "kernelspec": {
   "display_name": "Python 3 (ipykernel)",
   "language": "python",
   "name": "python3"
  },
  "language_info": {
   "codemirror_mode": {
    "name": "ipython",
    "version": 3
   },
   "file_extension": ".py",
   "mimetype": "text/x-python",
   "name": "python",
   "nbconvert_exporter": "python",
   "pygments_lexer": "ipython3",
   "version": "3.11.5"
  }
 },
 "nbformat": 4,
 "nbformat_minor": 5
}
