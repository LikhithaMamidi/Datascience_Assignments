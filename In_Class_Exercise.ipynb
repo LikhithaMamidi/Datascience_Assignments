{
 "cells": [
  {
   "cell_type": "code",
   "execution_count": null,
   "id": "d698337f-39ca-4f77-b4e2-aac1bf3204a6",
   "metadata": {},
   "outputs": [],
   "source": [
    "import random\n",
    "import statistics\n",
    "import numpy as np\n",
    "from statistics import mode\n",
    "import pandas as pd"
   ]
  },
  {
   "cell_type": "code",
   "execution_count": null,
   "id": "9748ee0e-d59d-4754-900b-a59f7f835cb5",
   "metadata": {},
   "outputs": [],
   "source": [
    "random_numbers = [random.randint(1, 100) for _ in range(20)]\n",
    "print(\"\",random_numbers)\n",
    "\n",
    "mean = sum(random_numbers) / len(random_numbers)\n",
    "print(\"Mean:\", mean)\n",
    "\n",
    "median = statistics.median(random_numbers)\n",
    "print(\"Median:\", median)\n",
    "\n",
    "mode = statistics.mode(random_numbers)\n",
    "print(\"Mode:\", mode)\n",
    "\n",
    "variance = statistics.variance(random_numbers)\n",
    "print(\"Variance:\", variance)\n",
    "\n",
    "std_deviation = statistics.stdev(random_numbers)\n",
    "print(\"Standard Deviation:\", std_deviation)\n",
    "#print(\"2data wrangling part Data cleaning and transformation\")"
   ]
  },
  {
   "cell_type": "code",
   "execution_count": null,
   "id": "ef6555be-d43c-4016-aca1-30e64aa8ce89",
   "metadata": {},
   "outputs": [],
   "source": [
    "#Print(\"1datamunglig to clean and preprocess\")"
   ]
  },
  {
   "cell_type": "code",
   "execution_count": null,
   "id": "b3676319-0022-4466-814d-b36871273f6e",
   "metadata": {},
   "outputs": [],
   "source": [
    "mean_age = df['age'].mean()\n",
    "df['age'].fillna(mean_age, inplace=True)\n",
    "#print(\"missing data handling technique All of the above\")"
   ]
  },
  {
   "cell_type": "code",
   "execution_count": null,
   "id": "54cb1afc-5adf-40ae-8b0b-c344d3346d23",
   "metadata": {},
   "outputs": [],
   "source": [
    "median_income = df['income'].median()\n",
    "print(\"Median Income:\", median_income)\n",
    "print(\"\")"
   ]
  },
  {
   "cell_type": "code",
   "execution_count": null,
   "id": "d5d8a5ed-4c19-4caf-b268-499f6dea34e6",
   "metadata": {},
   "outputs": [],
   "source": [
    "dataframe = pd.read_csv('data.csv',encoding='ISO-8859-1')\n",
    "dataframe"
   ]
  },
  {
   "cell_type": "code",
   "execution_count": null,
   "id": "59c2223b-fcd9-46cf-9604-0172679355a4",
   "metadata": {},
   "outputs": [],
   "source": [
    "percentiles = dataframe['UnitPrice'].quantile([0.25, 0.5, 0.75])\n",
    "\n",
    "print(\"25th Percentile:\", percentiles[0.25])\n",
    "print(\"50th Percentile:\", percentiles[0.5])\n",
    "print(\"75th Percentile:\", percentiles[0.75])"
   ]
  },
  {
   "cell_type": "code",
   "execution_count": null,
   "id": "8c6dfbda-7ff3-4c1e-85b4-84e743f9b06f",
   "metadata": {},
   "outputs": [],
   "source": [
    "import numpy as np\n",
    "\n",
    "# Generate random matrices A and B of size 8x8 with values between 1 and 10\n",
    "A = np.random.randint(1, 11, size=(8, 8))\n",
    "B = np.random.randint(1, 11, size=(8, 8))\n",
    "\n",
    "print(\"Matrix A:\")\n",
    "print(A)\n",
    "print(\"\\nMatrix B:\")\n",
    "AB = np.matmul(A, B)\n",
    "print(\"\\nMultiplication of A and B:\")\n",
    "print(AB)\n",
    "\n",
    "try:\n",
    "    A_inv = np.linalg.inv(A)\n",
    "    print(\"\\nInverse of A:\")\n",
    "    print(A_inv)\n",
    "except np.linalg.LinAlgError:\n",
    "    print(\"\\nInverse of A does not exist.\")\n",
    "\n",
    "try:\n",
    "    AB_inv = np.linalg.inv(AB)\n",
    "    B_inv_A_inv = np.matmul(np.linalg.inv(B), np.linalg.inv(A))\n",
    "    print(\"\\nInverse of (A * B):\")\n",
    "    print(AB_inv)\n",
    "    print(\"\\n(B^-1 * A^-1):\")\n",
    "    print(B_inv_A_inv)\n",
    "    if np.allclose(AB_inv, B_inv_A_inv):\n",
    "        print(\"\\nMatrix multiplication properties hold true.\")\n",
    "    else:\n",
    "        print(\"\\nMatrix multiplication properties do not hold true.\")\n",
    "except np.linalg.LinAlgError:\n",
    "    print(\"\\nInverse of (A * B) does not exist.\")\n"
   ]
  },
  {
   "cell_type": "code",
   "execution_count": null,
   "id": "234ec209-920d-4759-8b73-e38720811bbc",
   "metadata": {},
   "outputs": [],
   "source": []
  }
 ],
 "metadata": {
  "kernelspec": {
   "display_name": "Python 3 (ipykernel)",
   "language": "python",
   "name": "python3"
  },
  "language_info": {
   "codemirror_mode": {
    "name": "ipython",
    "version": 3
   },
   "file_extension": ".py",
   "mimetype": "text/x-python",
   "name": "python",
   "nbconvert_exporter": "python",
   "pygments_lexer": "ipython3",
   "version": "3.11.5"
  }
 },
 "nbformat": 4,
 "nbformat_minor": 5
}
