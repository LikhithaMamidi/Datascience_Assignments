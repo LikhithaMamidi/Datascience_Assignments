{
 "cells": [
  {
   "cell_type": "markdown",
   "id": "4c77af92",
   "metadata": {},
   "source": [
    "In-class exercise\n",
    "Exercise 1:"
   ]
  },
  {
   "cell_type": "code",
   "execution_count": 51,
   "id": "012811e9",
   "metadata": {},
   "outputs": [
    {
     "name": "stdout",
     "output_type": "stream",
     "text": [
      "      Name  Age         City\n",
      "0    Alice   23     New york\n",
      "1      Bob   35  Los Angeles\n",
      "2  Charlie   45      Chicago\n",
      "3    David   36      Houston\n",
      "4      Eva   28      Phoneix\n"
     ]
    }
   ],
   "source": [
    "import pandas as pd\n",
    "data={\n",
    "    'Name':['Alice','Bob','Charlie','David','Eva'],\n",
    "    'Age':[23,35,45,36,28],\n",
    "    'City':['New york','Los Angeles','Chicago','Houston','Phoneix']\n",
    "}\n",
    "df=pd.DataFrame(data)\n",
    "print(df)"
   ]
  },
  {
   "cell_type": "code",
   "execution_count": 52,
   "id": "eb0a5e56",
   "metadata": {},
   "outputs": [
    {
     "name": "stdout",
     "output_type": "stream",
     "text": [
      "Name    Charlie\n",
      "Age          45\n",
      "City    Chicago\n",
      "Name: 2, dtype: object\n"
     ]
    }
   ],
   "source": [
    "# select the row with index 2 using iloc[]\n",
    "\n",
    "print(df.iloc[2])\n"
   ]
  },
  {
   "cell_type": "code",
   "execution_count": 53,
   "id": "651dc9a5",
   "metadata": {},
   "outputs": [
    {
     "name": "stdout",
     "output_type": "stream",
     "text": [
      "0    23\n",
      "1    35\n",
      "2    45\n",
      "3    36\n",
      "4    28\n",
      "Name: Age, dtype: int64\n"
     ]
    }
   ],
   "source": [
    "#Select the Age column using iloc[]\n",
    "\n",
    "print(df.iloc[:,1])"
   ]
  },
  {
   "cell_type": "code",
   "execution_count": 54,
   "id": "7ec4fb8b",
   "metadata": {},
   "outputs": [
    {
     "name": "stdout",
     "output_type": "stream",
     "text": [
      "      Name  Age         City\n",
      "0    Alice   23     New york\n",
      "1      Bob   35  Los Angeles\n",
      "2  Charlie   45      Chicago\n"
     ]
    }
   ],
   "source": [
    "#select the first three rows using iloc[] slicing\n",
    "\n",
    "print(df.iloc[0:3])"
   ]
  },
  {
   "cell_type": "code",
   "execution_count": 55,
   "id": "d57f4b11",
   "metadata": {},
   "outputs": [
    {
     "name": "stdout",
     "output_type": "stream",
     "text": [
      "      Name         City\n",
      "0    Alice     New york\n",
      "1      Bob  Los Angeles\n",
      "2  Charlie      Chicago\n"
     ]
    }
   ],
   "source": [
    "#Select the 'Name' and 'City' columns for the first three rows using iloc[]\n",
    "print(df.iloc[:3, [0, 2]])"
   ]
  },
  {
   "cell_type": "code",
   "execution_count": 56,
   "id": "9329e749",
   "metadata": {},
   "outputs": [
    {
     "name": "stdout",
     "output_type": "stream",
     "text": [
      "Name    Charlie\n",
      "Age          45\n",
      "City    Chicago\n",
      "Name: 2, dtype: object\n"
     ]
    }
   ],
   "source": [
    "#select row for Charlie using iloc[]\n",
    "print(df.loc[2])"
   ]
  },
  {
   "cell_type": "code",
   "execution_count": 57,
   "id": "0d938314",
   "metadata": {},
   "outputs": [
    {
     "name": "stdout",
     "output_type": "stream",
     "text": [
      "0    23\n",
      "1    35\n",
      "2    45\n",
      "3    36\n",
      "4    28\n",
      "Name: Age, dtype: int64\n"
     ]
    }
   ],
   "source": [
    "# Select the Age column using loc[]\n",
    "print(df.loc[:,'Age'])"
   ]
  },
  {
   "cell_type": "markdown",
   "id": "dba3f171",
   "metadata": {},
   "source": [
    "In-class exercise\n",
    "\n",
    "Exercise 2:"
   ]
  },
  {
   "cell_type": "code",
   "execution_count": 62,
   "id": "fd4de098",
   "metadata": {},
   "outputs": [
    {
     "name": "stdout",
     "output_type": "stream",
     "text": [
      "      Name  Age         City\n",
      "0    Alice   23     New York\n",
      "1      Bob   35  Los Angeles\n",
      "2  Charlie   45      Chicago\n",
      "3    David   36      Houston\n",
      "4      Eva   28      Phoenix\n"
     ]
    }
   ],
   "source": [
    "import pandas as pd\n",
    "data = {\n",
    "'Name': ['Alice', 'Bob', 'Charlie', 'David', 'Eva'], 'Age': [23, 35, 45, 36, 28],\n",
    "'City': ['New York','Los Angeles','Chicago','Houston','Phoenix']\n",
    "}\n",
    "df = pd.DataFrame(data) \n",
    "print(df)"
   ]
  },
  {
   "cell_type": "code",
   "execution_count": 63,
   "id": "14eedd48",
   "metadata": {},
   "outputs": [
    {
     "name": "stdout",
     "output_type": "stream",
     "text": [
      "      Name  Age         City\n",
      "1      Bob   35  Los Angeles\n",
      "2  Charlie   45      Chicago\n",
      "3    David   36      Houston\n"
     ]
    }
   ],
   "source": [
    "#select rows where age is greater than 30 using loc\n",
    "print(df.loc[df['Age'] > 30])"
   ]
  },
  {
   "cell_type": "code",
   "execution_count": 64,
   "id": "b0bb026d",
   "metadata": {},
   "outputs": [
    {
     "name": "stdout",
     "output_type": "stream",
     "text": [
      "    Name  Age     City\n",
      "3  David   36  Houston\n"
     ]
    }
   ],
   "source": [
    "# Select the rows where city is either chicago or Houston using iloc\n",
    "print(df.loc[df['City'] == 'Houston'])"
   ]
  },
  {
   "cell_type": "code",
   "execution_count": 67,
   "id": "36f3c32c",
   "metadata": {},
   "outputs": [
    {
     "name": "stdout",
     "output_type": "stream",
     "text": [
      "Age          36\n",
      "City    Houston\n",
      "Name: David, dtype: object\n"
     ]
    }
   ],
   "source": [
    "# change the index of the dataframe to be the name of the column and use loc to select david\n",
    "\n",
    "df.set_index('Name',inplace=True)\n",
    "print(df.loc['David'])"
   ]
  },
  {
   "cell_type": "code",
   "execution_count": 68,
   "id": "253e13b3",
   "metadata": {},
   "outputs": [
    {
     "name": "stdout",
     "output_type": "stream",
     "text": [
      "      Age         City\n",
      "Name                  \n",
      "Bob    35  Los Angeles\n",
      "Eva    28      Phoenix\n"
     ]
    }
   ],
   "source": [
    "# Select age and city columns for bob and eva using loc[]\n",
    "print(df.loc[['Bob', 'Eva'], ['Age', 'City']])"
   ]
  },
  {
   "cell_type": "markdown",
   "id": "576044a2",
   "metadata": {},
   "source": [
    "In-class exercise\n",
    "Exercise 3:"
   ]
  },
  {
   "cell_type": "code",
   "execution_count": 71,
   "id": "2780fcd1",
   "metadata": {},
   "outputs": [
    {
     "name": "stdout",
     "output_type": "stream",
     "text": [
      "    Product  Price  In Stock\n",
      "0     Apple    0.5      True\n",
      "1    Banana    0.3      True\n",
      "2    Carrot    0.4     False\n",
      "3  Doughnut    1.0      True\n",
      "4       Egg    0.2     False\n"
     ]
    }
   ],
   "source": [
    "import pandas as pd\n",
    "data = {\n",
    "'Product': ['Apple', 'Banana', 'Carrot', 'Doughnut', 'Egg'], 'Price': [0.5, 0.3, 0.4, 1.0, 0.2],\n",
    "'In Stock': [True, True, False, True, False]\n",
    "}\n",
    "df1 = pd.DataFrame(data) \n",
    "print(df1)"
   ]
  },
  {
   "cell_type": "code",
   "execution_count": 81,
   "id": "715c1d81",
   "metadata": {},
   "outputs": [
    {
     "name": "stdout",
     "output_type": "stream",
     "text": [
      "    Product  Price  In Stock\n",
      "0     Apple    0.5      True\n",
      "1    Banana    0.3      True\n",
      "3  Doughnut    1.0      True\n"
     ]
    }
   ],
   "source": [
    "#select the products that are instock using loc\n",
    "print(df1.loc[df1['In Stock'] > 0, :])"
   ]
  },
  {
   "cell_type": "code",
   "execution_count": 89,
   "id": "1dc3f497",
   "metadata": {},
   "outputs": [
    {
     "name": "stdout",
     "output_type": "stream",
     "text": [
      "  Product  Price  In Stock\n",
      "1  Banana    0.3      True\n",
      "2  Carrot    0.4     False\n",
      "4     Egg    0.2     False\n"
     ]
    }
   ],
   "source": [
    "print(df1.loc[df1['Price'] < 0.5])"
   ]
  },
  {
   "cell_type": "code",
   "execution_count": 92,
   "id": "eda99320",
   "metadata": {},
   "outputs": [
    {
     "name": "stdout",
     "output_type": "stream",
     "text": [
      "  Product  Price\n",
      "2  Carrot    0.4\n",
      "4     Egg    0.2\n"
     ]
    }
   ],
   "source": [
    "np = df1.loc[df1['In Stock'] == 0, ['Product', 'Price']]\n",
    "print(np)"
   ]
  },
  {
   "cell_type": "code",
   "execution_count": null,
   "id": "40c5b04e",
   "metadata": {},
   "outputs": [],
   "source": []
  }
 ],
 "metadata": {
  "kernelspec": {
   "display_name": "Python 3 (ipykernel)",
   "language": "python",
   "name": "python3"
  },
  "language_info": {
   "codemirror_mode": {
    "name": "ipython",
    "version": 3
   },
   "file_extension": ".py",
   "mimetype": "text/x-python",
   "name": "python",
   "nbconvert_exporter": "python",
   "pygments_lexer": "ipython3",
   "version": "3.11.5"
  }
 },
 "nbformat": 4,
 "nbformat_minor": 5
}
