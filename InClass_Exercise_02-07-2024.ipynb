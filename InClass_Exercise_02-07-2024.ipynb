{
 "cells": [
  {
   "cell_type": "markdown",
   "id": "06643d43",
   "metadata": {},
   "source": [
    "## Import NumPy in Jupyter notebook."
   ]
  },
  {
   "cell_type": "code",
   "execution_count": 73,
   "id": "f9575483",
   "metadata": {},
   "outputs": [],
   "source": [
    "import numpy as np"
   ]
  },
  {
   "cell_type": "markdown",
   "id": "9deac120",
   "metadata": {},
   "source": [
    "## Generate a 1D NumPy array of 10 random integers between 1 and 100."
   ]
  },
  {
   "cell_type": "code",
   "execution_count": 74,
   "id": "a06c7bfa",
   "metadata": {},
   "outputs": [
    {
     "data": {
      "text/plain": [
       "array([64,  2, 21, 76, 88, 89, 52, 97, 10, 95])"
      ]
     },
     "execution_count": 74,
     "metadata": {},
     "output_type": "execute_result"
    }
   ],
   "source": [
    "a=np.random.randint(1,100,10)\n",
    "a"
   ]
  },
  {
   "cell_type": "markdown",
   "id": "68010534",
   "metadata": {},
   "source": [
    "## Access and print the first and last elements of the array."
   ]
  },
  {
   "cell_type": "code",
   "execution_count": 75,
   "id": "517a648a",
   "metadata": {},
   "outputs": [
    {
     "name": "stdout",
     "output_type": "stream",
     "text": [
      "64\n",
      "95\n"
     ]
    }
   ],
   "source": [
    "print(a[0])\n",
    "print(a[-1])"
   ]
  },
  {
   "cell_type": "markdown",
   "id": "a09350eb",
   "metadata": {},
   "source": [
    "## Generate a 2D NumPy array of shape (3, 3) with random floating-point numbers."
   ]
  },
  {
   "cell_type": "code",
   "execution_count": 87,
   "id": "394a857e",
   "metadata": {},
   "outputs": [
    {
     "data": {
      "text/plain": [
       "array([[0.96464888, 0.33609746, 0.42193042],\n",
       "       [0.18824291, 0.34059336, 0.79063763],\n",
       "       [0.59028526, 0.84747982, 0.72238071]])"
      ]
     },
     "execution_count": 87,
     "metadata": {},
     "output_type": "execute_result"
    }
   ],
   "source": [
    "b=np.random.rand(3, 3)\n",
    "b"
   ]
  },
  {
   "cell_type": "markdown",
   "id": "74425cc8",
   "metadata": {},
   "source": [
    "## Use the 2D array generated in Exercise 1 c. Practice slicing arrays to access sub-arrays.\n",
    "## Print the first row of the 2D array.\n"
   ]
  },
  {
   "cell_type": "code",
   "execution_count": 88,
   "id": "1a998ab8",
   "metadata": {},
   "outputs": [
    {
     "name": "stdout",
     "output_type": "stream",
     "text": [
      "[0.96464888 0.33609746 0.42193042]\n"
     ]
    }
   ],
   "source": [
    "print(b[0,:])"
   ]
  },
  {
   "cell_type": "markdown",
   "id": "f43a38f1",
   "metadata": {},
   "source": [
    "## Print the last column of the 2D array."
   ]
  },
  {
   "cell_type": "code",
   "execution_count": 89,
   "id": "f0f7e719",
   "metadata": {},
   "outputs": [
    {
     "name": "stdout",
     "output_type": "stream",
     "text": [
      "[0.42193042 0.79063763 0.72238071]\n"
     ]
    }
   ],
   "source": [
    "print(b[:,-1])"
   ]
  },
  {
   "cell_type": "markdown",
   "id": "ab0a1119",
   "metadata": {},
   "source": [
    "## Create and print a sub-array consisting of the first two rows and first two columns."
   ]
  },
  {
   "cell_type": "code",
   "execution_count": 90,
   "id": "da8f9cb1",
   "metadata": {},
   "outputs": [
    {
     "name": "stdout",
     "output_type": "stream",
     "text": [
      "[[0.96464888 0.33609746]\n",
      " [0.18824291 0.34059336]]\n"
     ]
    }
   ],
   "source": [
    "c=b[:2,:2]\n",
    "print(c)"
   ]
  },
  {
   "cell_type": "markdown",
   "id": "4857e648",
   "metadata": {},
   "source": [
    "## Generate two 1D NumPy arrays of 5 random integers each. "
   ]
  },
  {
   "cell_type": "code",
   "execution_count": 91,
   "id": "341b5b86",
   "metadata": {},
   "outputs": [
    {
     "name": "stdout",
     "output_type": "stream",
     "text": [
      "firtst array:  [40 16 21 27 27]\n",
      "second array:  [31  3 43  3 11]\n"
     ]
    }
   ],
   "source": [
    "a1=np.random.randint(1,50,5)\n",
    "a2=np.random.randint(1,50,5)\n",
    "print(\"firtst array: \",a1)\n",
    "print(\"second array: \",a2)"
   ]
  },
  {
   "cell_type": "markdown",
   "id": "da686074",
   "metadata": {},
   "source": [
    "## Add the two arrays and print the result."
   ]
  },
  {
   "cell_type": "code",
   "execution_count": 92,
   "id": "fabcc368",
   "metadata": {},
   "outputs": [
    {
     "name": "stdout",
     "output_type": "stream",
     "text": [
      "sum of 2 arrays:  [71 19 64 30 38]\n"
     ]
    }
   ],
   "source": [
    "ad=a1+a2\n",
    "print(\"sum of 2 arrays: \",ad)"
   ]
  },
  {
   "cell_type": "markdown",
   "id": "944a6019",
   "metadata": {},
   "source": [
    "## Multiply the two arrays (element-wise) and print the result."
   ]
  },
  {
   "cell_type": "code",
   "execution_count": 93,
   "id": "9bbbbe29",
   "metadata": {},
   "outputs": [
    {
     "name": "stdout",
     "output_type": "stream",
     "text": [
      "product of 2 arrays:  [1240   48  903   81  297]\n"
     ]
    }
   ],
   "source": [
    "mul=a1*a2\n",
    "print(\"product of 2 arrays: \",mul)"
   ]
  },
  {
   "cell_type": "markdown",
   "id": "570fe210",
   "metadata": {},
   "source": [
    "## Calculate the square of every element in the first array and print it."
   ]
  },
  {
   "cell_type": "code",
   "execution_count": 94,
   "id": "3f605fbb",
   "metadata": {},
   "outputs": [
    {
     "name": "stdout",
     "output_type": "stream",
     "text": [
      "a1 array:  [40 16 21 27 27]\n",
      "square of every element in array a1:  [1600  256  441  729  729]\n"
     ]
    }
   ],
   "source": [
    "squ=a1**2\n",
    "print(\"a1 array: \",a1)\n",
    "print(\"square of every element in array a1: \",squ)"
   ]
  },
  {
   "cell_type": "markdown",
   "id": "b8cbe43f",
   "metadata": {},
   "source": [
    "## Generate two 2D NumPy arrays, A of shape (2, 3) and B of shape (3, 2), with random integers."
   ]
  },
  {
   "cell_type": "code",
   "execution_count": 95,
   "id": "9f635767",
   "metadata": {},
   "outputs": [
    {
     "name": "stdout",
     "output_type": "stream",
     "text": [
      "[[ 8 39 48]\n",
      " [25 47 24]]\n",
      "\n",
      "[[43  9]\n",
      " [36 33]\n",
      " [33 33]]\n"
     ]
    }
   ],
   "source": [
    "A=np.random.randint(1,50,(2, 3))\n",
    "B=np.random.randint(1,50,(3, 2))\n",
    "print(A)\n",
    "print()\n",
    "print(B)"
   ]
  },
  {
   "cell_type": "markdown",
   "id": "090a9a9c",
   "metadata": {},
   "source": [
    "## Perform matrix multiplication between A and B (using np.dot() or the @ operator) and print the result."
   ]
  },
  {
   "cell_type": "code",
   "execution_count": 96,
   "id": "f7bef997",
   "metadata": {},
   "outputs": [
    {
     "name": "stdout",
     "output_type": "stream",
     "text": [
      "multiplication using @\n",
      "[[3332 2943]\n",
      " [3559 2568]]\n",
      "multiplication using np.dot()\n",
      "[[3332 2943]\n",
      " [3559 2568]]\n"
     ]
    }
   ],
   "source": [
    "matmul=A@B\n",
    "matmul1=np.dot(A,B)\n",
    "print(\"multiplication using @\")\n",
    "print(matmul)\n",
    "print(\"multiplication using np.dot()\")\n",
    "print(matmul1)"
   ]
  },
  {
   "cell_type": "markdown",
   "id": "423ccf89",
   "metadata": {},
   "source": [
    "## Can A and B perform element-wise multiplication using *, why?"
   ]
  },
  {
   "cell_type": "code",
   "execution_count": 97,
   "id": "1ec4d6ff",
   "metadata": {},
   "outputs": [
    {
     "ename": "ValueError",
     "evalue": "operands could not be broadcast together with shapes (2,3) (3,2) ",
     "output_type": "error",
     "traceback": [
      "\u001b[0;31m---------------------------------------------------------------------------\u001b[0m",
      "\u001b[0;31mValueError\u001b[0m                                Traceback (most recent call last)",
      "Cell \u001b[0;32mIn[97], line 1\u001b[0m\n\u001b[0;32m----> 1\u001b[0m mat\u001b[38;5;241m=\u001b[39mA\u001b[38;5;241m*\u001b[39mB\n\u001b[1;32m      2\u001b[0m \u001b[38;5;28mprint\u001b[39m(mat)\n",
      "\u001b[0;31mValueError\u001b[0m: operands could not be broadcast together with shapes (2,3) (3,2) "
     ]
    }
   ],
   "source": [
    "mat=A*B\n",
    "print(mat)"
   ]
  },
  {
   "cell_type": "markdown",
   "id": "89200dc2",
   "metadata": {},
   "source": [
    "* Matrix A and B can not be multiplied element wise using the * operator as they both have different shapes."
   ]
  },
  {
   "cell_type": "code",
   "execution_count": null,
   "id": "879bd8ac",
   "metadata": {},
   "outputs": [],
   "source": []
  }
 ],
 "metadata": {
  "kernelspec": {
   "display_name": "Python 3 (ipykernel)",
   "language": "python",
   "name": "python3"
  },
  "language_info": {
   "codemirror_mode": {
    "name": "ipython",
    "version": 3
   },
   "file_extension": ".py",
   "mimetype": "text/x-python",
   "name": "python",
   "nbconvert_exporter": "python",
   "pygments_lexer": "ipython3",
   "version": "3.11.5"
  }
 },
 "nbformat": 4,
 "nbformat_minor": 5
}
