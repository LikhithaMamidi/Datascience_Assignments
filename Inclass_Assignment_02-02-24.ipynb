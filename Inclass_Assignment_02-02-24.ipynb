{
 "cells": [
  {
   "cell_type": "markdown",
   "id": "a7a1d4d3",
   "metadata": {},
   "source": [
    "## 1\tExplore inner join; outer join; left join and right join respectively. "
   ]
  },
  {
   "cell_type": "code",
   "execution_count": 1,
   "id": "79fb9781",
   "metadata": {},
   "outputs": [],
   "source": [
    "import pandas as pd\n",
    "\n",
    "data1={\n",
    "    'studentid':[1,2,3,4],\n",
    "    'name':['Alice','Bob','Charlie','David'],\n",
    "}\n",
    "\n",
    "df1=pd.DataFrame(data1)\n",
    "\n",
    "data2={\n",
    "    'studentid':[3,4,5,6],\n",
    "    'grade':['A','B','C','D']\n",
    "}\n",
    "\n",
    "df2=pd.DataFrame(data2)\n"
   ]
  },
  {
   "cell_type": "code",
   "execution_count": 2,
   "id": "de5cdb59",
   "metadata": {},
   "outputs": [
    {
     "name": "stdout",
     "output_type": "stream",
     "text": [
      "   studentid     name grade\n",
      "0          3  Charlie     A\n",
      "1          4    David     B\n"
     ]
    }
   ],
   "source": [
    "#Inner Join\n",
    "\n",
    "print(pd.merge(df1, df2))"
   ]
  },
  {
   "cell_type": "code",
   "execution_count": 3,
   "id": "cdbd8afc",
   "metadata": {},
   "outputs": [
    {
     "name": "stdout",
     "output_type": "stream",
     "text": [
      "   studentid     name grade\n",
      "0          1    Alice   NaN\n",
      "1          2      Bob   NaN\n",
      "2          3  Charlie     A\n",
      "3          4    David     B\n",
      "4          5      NaN     C\n",
      "5          6      NaN     D\n"
     ]
    }
   ],
   "source": [
    "# Outer Join\n",
    "\n",
    "print(pd.merge(df1, df2, how='outer'))"
   ]
  },
  {
   "cell_type": "code",
   "execution_count": 8,
   "id": "5608ff84",
   "metadata": {},
   "outputs": [
    {
     "name": "stdout",
     "output_type": "stream",
     "text": [
      "   studentid     name grade\n",
      "0          1    Alice   NaN\n",
      "1          2      Bob   NaN\n",
      "2          3  Charlie     A\n",
      "3          4    David     B\n"
     ]
    }
   ],
   "source": [
    "# Left\n",
    "\n",
    "print(pd.merge(df1,df2,how=\"left\"))"
   ]
  },
  {
   "cell_type": "code",
   "execution_count": 7,
   "id": "c96899c2",
   "metadata": {},
   "outputs": [
    {
     "name": "stdout",
     "output_type": "stream",
     "text": [
      "   studentid     name grade\n",
      "0          3  Charlie     A\n",
      "1          4    David     B\n",
      "2          5      NaN     C\n",
      "3          6      NaN     D\n"
     ]
    }
   ],
   "source": [
    "# Right\n",
    "\n",
    "print(pd.merge(df1,df2,how=\"right\"))"
   ]
  },
  {
   "cell_type": "markdown",
   "id": "4782054b",
   "metadata": {},
   "source": [
    "## 2\tCreate a dataframe\n",
    "\n",
    "* Group the data by 'Salesperson' and calculate the total 'Quantity' sold by each salesperson.\n",
    "* Group the data by 'Product' and find the average 'Quantity' sold.\n"
   ]
  },
  {
   "cell_type": "code",
   "execution_count": 10,
   "id": "73cb3b7a",
   "metadata": {},
   "outputs": [],
   "source": [
    "data = {\n",
    "    'Salesperson': ['Alice', 'Bob', 'Charlie', 'Alice', 'Bob', 'Charlie'],\n",
    "    'Product': ['Widget', 'Widget', 'Gadget', 'Gadget', 'Widget', 'Gadget'],\n",
    "    'Quantity': [4, 2, 3, 5, 6, 1]\n",
    "}\n",
    "df = pd.DataFrame(data)"
   ]
  },
  {
   "cell_type": "code",
   "execution_count": 13,
   "id": "40ba3d39",
   "metadata": {},
   "outputs": [
    {
     "name": "stdout",
     "output_type": "stream",
     "text": [
      "Salesperson\n",
      "Alice      9\n",
      "Bob        8\n",
      "Charlie    4\n",
      "Name: Quantity, dtype: int64\n"
     ]
    }
   ],
   "source": [
    "#Group the data by 'Salesperson' and calculate the total 'Quantity' sold by each salesperson.\n",
    "\n",
    "sp= df.groupby('Salesperson')\n",
    "summ=sp['Quantity'].sum()\n",
    "print(summ)"
   ]
  },
  {
   "cell_type": "code",
   "execution_count": 14,
   "id": "ae98d4d4",
   "metadata": {},
   "outputs": [
    {
     "name": "stdout",
     "output_type": "stream",
     "text": [
      "Product\n",
      "Gadget    3.0\n",
      "Widget    4.0\n",
      "Name: Quantity, dtype: float64\n"
     ]
    }
   ],
   "source": [
    "# Group the data by 'Product' and find the average 'Quantity' sold.\n",
    "pr=df.groupby('Product')\n",
    "avg=pr['Quantity'].mean()\n",
    "print(avg)"
   ]
  },
  {
   "cell_type": "code",
   "execution_count": null,
   "id": "c3a94e0c",
   "metadata": {},
   "outputs": [],
   "source": []
  }
 ],
 "metadata": {
  "kernelspec": {
   "display_name": "Python 3 (ipykernel)",
   "language": "python",
   "name": "python3"
  },
  "language_info": {
   "codemirror_mode": {
    "name": "ipython",
    "version": 3
   },
   "file_extension": ".py",
   "mimetype": "text/x-python",
   "name": "python",
   "nbconvert_exporter": "python",
   "pygments_lexer": "ipython3",
   "version": "3.11.5"
  }
 },
 "nbformat": 4,
 "nbformat_minor": 5
}
